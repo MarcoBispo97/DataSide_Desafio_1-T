{
  "nbformat": 4,
  "nbformat_minor": 0,
  "metadata": {
    "colab": {
      "private_outputs": true,
      "provenance": [],
      "collapsed_sections": [],
      "authorship_tag": "ABX9TyM4aR/fys5u/zXoBcggH926",
      "include_colab_link": true
    },
    "kernelspec": {
      "name": "python3",
      "display_name": "Python 3"
    },
    "language_info": {
      "name": "python"
    }
  },
  "cells": [
    {
      "cell_type": "markdown",
      "metadata": {
        "id": "view-in-github",
        "colab_type": "text"
      },
      "source": [
        "<a href=\"https://colab.research.google.com/github/MarcoBispo97/DataSide_Desafio_Acelera/blob/main/DataSide_Desafio_2_T.ipynb\" target=\"_parent\"><img src=\"https://colab.research.google.com/assets/colab-badge.svg\" alt=\"Open In Colab\"/></a>"
      ]
    },
    {
      "cell_type": "markdown",
      "source": [],
      "metadata": {
        "id": "TeaT4qoetEc7"
      }
    },
    {
      "cell_type": "code",
      "source": [
        "import pandas as pd\n",
        "import matplotlib.pyplot as plt\n",
        "import plotly.express as px\n",
        "import random\n",
        "dataset = pd.read_csv('/content/supermarket_sales - Sheet1.csv')\n",
        "print(dataset.isnull().sum())\n",
        "display(dataset.head(5))\n",
        "\n",
        "def gerar_gr(dataframe,titulo,elemento,valor,operacao):\n",
        "  df_filtro=pd.pivot_table(dataframe,index=[elemento], values=valor, aggfunc=operacao).sort_values(ascending=False,by=valor)[:10]\n",
        "  prods = [s.strip() for s in df_filtro.index.tolist()]\n",
        "  df_filtro['Product line'] = df_filtro.index\n",
        "  resposta = df_filtro['Product line'].iloc[0]\n",
        "  fig = px.bar(df_filtro, x=prods, y=df_filtro[valor], title =titulo + \"   R: \" +resposta,text = valor)\n",
        "  fig.update_layout(xaxis_title=elemento)\n",
        "  cores = ['gray','blue','green','purple']\n",
        "  cor = random.choice(cores)\n",
        "  fig.update_traces(marker_color=cor)\n",
        "  fig.update_traces(textposition='inside',texttemplate='%{text:.4s}')\n",
        "  fig.show()\n",
        "gerar_gr(dataset,'P1: Qual o “product_line” com maior “quantity” de vendas? ','Product line','Quantity','sum')\n",
        "\n",
        "gerar_gr(dataset_masc,'P2: Qual  o “product_line” mais vendido para cada gênero? (Masculino)','Product line','Quantity','sum')\n",
        "gerar_gr(dataset_fem,'P2: Qual  o “product_line” mais vendido para cada gênero? (Feminino)','Product line','Quantity','sum')\n",
        "\n",
        "filtro_masc = dataset['Gender']=='Male'\n",
        "dataset_masc = dataset[filtro_masc]\n",
        "filtro_yango = dataset_masc['City']=='Yangon'\n",
        "dataset_masc_yangon = dataset_masc[filtro_yango]\n",
        "dataset_masc_yangon\n",
        "gerar_gr(dataset_masc,'P3: Qual a “City” que possui maior “quantity” de vendas para homens? ','City','Quantity','sum')\n",
        "gerar_gr(dataset_masc_yangon,'P3: Qual o ‘product_line’ mais vendido para eles?','Product line','Quantity','sum')\n",
        "\n",
        "gerar_gr(dataset,'P4: Qual “Branch” possui a maior somatória de “total”? (OBS.: Somatória de quantidade de vendas)','Branch','Quantity','sum')\n",
        "\n",
        "filtro_branchA = dataset['Branch']=='A'\n",
        "dataset_branchA = dataset[filtro_branchA]\n",
        "gerar_gr(dataset_branchA,'P5: É correto afirmar que a “branch A” possui apenas vendas na ‘city’ Yangon? Justifique.','City','Invoice ID','count')\n",
        "print('Sim, filtrando apenas pelo Branch A, só me retorna a cidade de Yangon')\n",
        "\n",
        "gerar_gr(dataset,'P6: Qual a ‘branch’ com maior ‘rating’? ','Branch','Rating','sum')\n",
        "\n",
        "gerar_gr(dataset,'P7: Qual a ‘city’ com maior rating?','City','Rating','sum')\n",
        "\n",
        "gerar_gr(dataset,'P8: No contexto geral, qual ‘gender’ possui a média mais alta de ‘rating’?','Gender','Rating','mean')\n",
        "\n",
        "#Criando a coluna Cash\n",
        "dataset['Cash']=dataset['Unit price']*dataset['Quantity']\n",
        "dataset\n",
        "filtro_payment_credit_card = dataset['Payment']=='Credit card'\n",
        "dataset_payment_credit_card = dataset[filtro_payment_credit_card]\n",
        "\n",
        "gerar_gr(dataset_payment_credit_card,'P9: Qual ‘branch’ recebe mais ‘payment’ em cartão de crédito (credit card)?','Branch','Cash','sum')\n",
        "filtro_payment_cash = dataset['Payment']=='Cash'\n",
        "dataset_payment_cash = dataset[filtro_payment_cash]\n",
        "gerar_gr(dataset_payment_cash,'P9: Qual ‘branch’ recebe mais ‘payment’ em dinheiro (cash)?','Branch','Cash','sum')\n",
        "\n",
        "dataset[['Hour','Minute']] = dataset['Time'].str.split(pat = ':', expand = True)\n",
        "gerar_gr(dataset,'P10: Qual HORA ‘time’ tem maior  ‘quantity’ vendida? (considere apenas Hora, não minutos) ?','Hour','Quantity','sum')\n",
        "\n",
        "dataset[['Month','Day of month','Year']] = dataset['Date'].str.split(pat = '/', expand = True)\n",
        "gerar_gr(dataset,'P11: Qual dia do mês ‘Date’ possui maior ‘quantity’ vendida? ','Day of month','Quantity','sum')\n",
        "\n",
        "dataset['Hating'] = -dataset['Rating']\n",
        "gerar_gr(dataset,'P12: Qual ‘line_item’ possui a pior avaliação da loja? (Obs.: Hating é a função oposta de Rating, classificando os produtos do pior para o melhor)','Product line','Hating','sum')\n",
        "\n",
        "#Avaliações que estão abaixo da média de todas as 'avaliações' são NEGATIVAS\n",
        "#Avaliações negativas\n",
        "dataset['Rating'].mean()\n",
        "dataset.loc[dataset['Rating'] <= 6.9727, 'Avaliação1'] = 'Positiva' \n",
        "dataset.loc[dataset['Rating'] > 6.9727, 'Avaliação1'] = 'Negativa' \n",
        "\n",
        "# Filtro de dados negativos\n",
        "filtro_negativo1= dataset['Avaliação1']=='Negativa'\n",
        "dataset_negativo1 = dataset[filtro_negativo1]\n",
        "\n",
        "gerar_gr(dataset_negativo1,'P12: Qual ‘line_item’ possui a pior avaliação da loja? (Obs.: Avaliação negativa é a avaliação abaixo da média das avaliações \"6.9727\" )','Gender','Avaliação1','count')\n",
        "\n",
        "#Avaliações que estão abaixo da média 0 até 10, ou seja abaixo de 5 são NEGATIVAS\n",
        "dataset.loc[dataset['Rating'] <= 5, 'Avaliação2'] = 'Positiva' \n",
        "dataset.loc[dataset['Rating'] > 5, 'Avaliação2'] = 'Negativa' \n",
        "\n",
        "# Filtro de dados negativos\n",
        "filtro_negativo2= dataset['Avaliação2']=='Negativa'\n",
        "dataset_negativo2 = dataset[filtro_negativo2]\n",
        "gerar_gr(dataset_negativo2,'P12: Qual ‘line_item’ possui a pior avaliação da loja? (Obs.: Avaliação negativa é a avaliação abaixo da média de 0 a 10, ou seja \"5\")','Gender','Avaliação2','count')\n",
        "\n",
        "display(dataset.head(5))"
      ],
      "metadata": {
        "id": "aCY18JYOtFjc"
      },
      "execution_count": null,
      "outputs": []
    }
  ]
}